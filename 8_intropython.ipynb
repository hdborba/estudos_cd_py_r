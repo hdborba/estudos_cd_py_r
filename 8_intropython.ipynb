{
  "nbformat": 4,
  "nbformat_minor": 0,
  "metadata": {
    "colab": {
      "name": "8.intropython.ipynb",
      "provenance": [],
      "collapsed_sections": [],
      "authorship_tag": "ABX9TyNYwdRcToElb2zZhAyfnwu0",
      "include_colab_link": true
    },
    "kernelspec": {
      "name": "python3",
      "display_name": "Python 3"
    },
    "language_info": {
      "name": "python"
    }
  },
  "cells": [
    {
      "cell_type": "markdown",
      "metadata": {
        "id": "view-in-github",
        "colab_type": "text"
      },
      "source": [
        "<a href=\"https://colab.research.google.com/github/hdborba/estudos_cd_py_r/blob/main/8_intropython.ipynb\" target=\"_parent\"><img src=\"https://colab.research.google.com/assets/colab-badge.svg\" alt=\"Open In Colab\"/></a>"
      ]
    },
    {
      "cell_type": "markdown",
      "source": [
        "### **Amplitude**"
      ],
      "metadata": {
        "id": "WiuPRvGiFu1t"
      }
    },
    {
      "cell_type": "code",
      "execution_count": null,
      "metadata": {
        "id": "09nhpdBWFdv_"
      },
      "outputs": [],
      "source": [
        "import pandas as pd\n",
        "import numpy as np"
      ]
    },
    {
      "cell_type": "code",
      "source": [
        "def amplitude_calc():\n",
        "  x = []\n",
        "  y = []\n",
        "  for x_valor in range(5):\n",
        "    x_valor = int(input(\"insira os valores para x: \"))\n",
        "    x.append(x_valor)\n",
        "  print(x)\n",
        "\n",
        "  for y_valor in range(5):\n",
        "    y_valor = int(input(\"insira os valores para y: \"))\n",
        "    y.append(y_valor)\n",
        "  print(y)\n",
        "\n",
        "  amplitude_calc = (sum(x) - sum(y))\n",
        "  print(\"a amplitude entre os valores de 'x' e 'y' é de: \\n\", amplitude_calc)"
      ],
      "metadata": {
        "id": "bQj0FQGFMIMg"
      },
      "execution_count": null,
      "outputs": []
    },
    {
      "cell_type": "code",
      "source": [
        "amplitude_calc()"
      ],
      "metadata": {
        "colab": {
          "base_uri": "https://localhost:8080/"
        },
        "id": "MYuVXxLjOMYH",
        "outputId": "6437b152-cbc0-40db-b700-4ec5bbc12db3"
      },
      "execution_count": null,
      "outputs": [
        {
          "output_type": "stream",
          "name": "stdout",
          "text": [
            "insira os valores para x: 1\n",
            "insira os valores para x: 2\n",
            "insira os valores para x: 3\n",
            "insira os valores para x: 4\n",
            "insira os valores para x: 5\n",
            "[1, 2, 3, 4, 5]\n",
            "insira os valores para y: 1\n",
            "insira os valores para y: 2\n",
            "insira os valores para y: 3\n",
            "insira os valores para y: 4\n",
            "insira os valores para y: 5\n",
            "[1, 2, 3, 4, 5]\n",
            "a amplitude entre os valores de 'x' e 'y' é de: \n",
            " 0\n"
          ]
        }
      ]
    },
    {
      "cell_type": "markdown",
      "source": [
        "### **Texto na vertical**"
      ],
      "metadata": {
        "id": "NyDpwmJXRG82"
      }
    },
    {
      "cell_type": "code",
      "source": [
        "def texto_vertical ():\n",
        "  texto = list(input(\"digite seu texto aqui: \\n\"))\n",
        "  for conteudo in texto:\n",
        "    print(conteudo)\n",
        "\n",
        "texto_vertical()"
      ],
      "metadata": {
        "colab": {
          "base_uri": "https://localhost:8080/"
        },
        "id": "_LewIdMDRGeg",
        "outputId": "bb277024-4797-442a-cd39-39dc31a7b25e"
      },
      "execution_count": null,
      "outputs": [
        {
          "output_type": "stream",
          "name": "stdout",
          "text": [
            "digite seu texto aqui: \n",
            "oi\n",
            "o\n",
            "i\n"
          ]
        }
      ]
    },
    {
      "cell_type": "markdown",
      "source": [
        "### Crie um programa que leia o peso de uma carga em números inteiros. Se o peso for até 10 kg, informe que o valor será de R$ 50,00.\n",
        "\n",
        "### Entre 11 e 20 kg, informe que o valor será de R$ 80. Se for maior que 20 informe que o transporte não é aceito. Teste vários pesos.\n"
      ],
      "metadata": {
        "id": "ITCiwjjzVgR4"
      }
    },
    {
      "cell_type": "code",
      "source": [
        "def frete ():\n",
        "  carga = int(input(\"qual o peso da carga? \\n\"))\n",
        "  carga\n",
        "\n",
        "  if carga <= 10:\n",
        "    print(\"o valor a ser pago será de R$ 50\")\n",
        "  elif carga >20:\n",
        "    print(\"carga não suportada\")\n",
        "  else:\n",
        "    print(\"o valor a ser pago será de R$ 80\")"
      ],
      "metadata": {
        "id": "XLTxH8FDVeAF"
      },
      "execution_count": null,
      "outputs": []
    },
    {
      "cell_type": "code",
      "source": [
        "frete()"
      ],
      "metadata": {
        "colab": {
          "base_uri": "https://localhost:8080/"
        },
        "id": "Cc3Tcui0ZCj0",
        "outputId": "86c1dd68-0dea-4c93-d16c-af5face0c01c"
      },
      "execution_count": null,
      "outputs": [
        {
          "output_type": "stream",
          "name": "stdout",
          "text": [
            "qual o peso da carga? \n",
            "8\n",
            "o valor a ser pago será de R$ 50\n"
          ]
        }
      ]
    },
    {
      "cell_type": "code",
      "source": [
        "from google.colab import drive\n",
        "drive.mount('/content/drive')"
      ],
      "metadata": {
        "id": "SkufOWo_ZSTb"
      },
      "execution_count": null,
      "outputs": []
    }
  ]
}